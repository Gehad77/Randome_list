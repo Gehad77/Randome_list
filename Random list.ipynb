{
 "cells": [
  {
   "cell_type": "code",
   "execution_count": 1,
   "metadata": {},
   "outputs": [
    {
     "ename": "SyntaxError",
     "evalue": "invalid syntax (<ipython-input-1-44d90be14c26>, line 3)",
     "output_type": "error",
     "traceback": [
      "\u001b[1;36m  File \u001b[1;32m\"<ipython-input-1-44d90be14c26>\"\u001b[1;36m, line \u001b[1;32m3\u001b[0m\n\u001b[1;33m    s=input(list[])\u001b[0m\n\u001b[1;37m                 ^\u001b[0m\n\u001b[1;31mSyntaxError\u001b[0m\u001b[1;31m:\u001b[0m invalid syntax\n"
     ]
    }
   ],
   "source": [
    "import random\n",
    "lst=[]\n",
    "s=input(list[])\n",
    "print(s)"
   ]
  },
  {
   "cell_type": "code",
   "execution_count": 42,
   "metadata": {},
   "outputs": [
    {
     "name": "stdout",
     "output_type": "stream",
     "text": [
      "The original list is : [14, 27, 29, 49, 37, 36, 16, 17, 21, 38, 18, 34, 25, 44]\n",
      "The list after adding 5 to each element : [19, 32, 34, 54, 42, 41, 21, 22, 26, 43, 23, 39, 30, 49]\n",
      "The random number of 100,200:[121, 157, 147, 146, 184, 114, 117, 111, 195, 102, 133, 180, 196, 196, 163, 190, 140, 191, 154, 125, 147, 190, 110, 129, 199, 121, 126, 124]\n"
     ]
    }
   ],
   "source": [
    "import random\n",
    "\n",
    "randomlist = []\n",
    "\n",
    "for i in range(1,15):\n",
    "    n = random.randint(10,50)\n",
    "    randomlist.append(n)\n",
    "    \n",
    "\n",
    "\n",
    "print (\"The original list is : \" + str(randomlist)) \n",
    "  \n",
    "K = 5\n",
    "  \n",
    "res = [x + K for x in randomlist] \n",
    "    \n",
    "print (\"The list after adding 5 to each element : \" +  str(res)) \n",
    "\n",
    "for b in range(1,15):\n",
    "    c =random.randint(100,200)\n",
    "    randomlist1.append(c)\n",
    "print (\"The random number of 100,200:\"+str(randomlist1))\n",
    "\n",
    "    \n",
    "#print(randomlist)\n",
    "#print(randomlist1)"
   ]
  },
  {
   "cell_type": "code",
   "execution_count": null,
   "metadata": {},
   "outputs": [],
   "source": []
  },
  {
   "cell_type": "code",
   "execution_count": null,
   "metadata": {},
   "outputs": [],
   "source": []
  }
 ],
 "metadata": {
  "kernelspec": {
   "display_name": "Python 3",
   "language": "python",
   "name": "python3"
  },
  "language_info": {
   "codemirror_mode": {
    "name": "ipython",
    "version": 3
   },
   "file_extension": ".py",
   "mimetype": "text/x-python",
   "name": "python",
   "nbconvert_exporter": "python",
   "pygments_lexer": "ipython3",
   "version": "3.7.6"
  }
 },
 "nbformat": 4,
 "nbformat_minor": 4
}
